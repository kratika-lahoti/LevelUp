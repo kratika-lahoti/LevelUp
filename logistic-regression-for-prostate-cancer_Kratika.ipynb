{
 "cells": [
  {
   "cell_type": "markdown",
   "metadata": {
    "_uuid": "05ff059b35595eae90e8d8642df2be40865e400a"
   },
   "source": [
    "# Introduction\n",
    "\n",
    "In this tutorial, I will show logistic regression algorithms. Step by step I will show you what mathematical formulas we need to use. I'll show you how to do this using the sklearn library and how to do it without it.\n",
    "\n",
    "Logistic Regression algorithm is used to predict if the result is Yes or No, A or B, Cat or Dog etc. Our data set includes back pain symptoms that are classified as Abnormal or Normal and suitable for applying Logistic Regression.\n",
    "\n",
    "Logistic regression is the most famous machine learning algorithm after linear regression. In a lot of ways, linear regression and logistic regression are similar. But, the biggest difference lies in what they are used for. Linear regression algorithms are used to predict/forecast values but logistic regression is used for classification tasks.\n",
    "\n",
    "Prostate cancer is a disease in which malignant (cancer) cells form in the tissues of the prostate.\n",
    "\n",
    "Our data set contains prostate cells that are classified as good or bad and are appropriate for the use of logistic regression.\n",
    "first, let's import the necessary libraries."
   ]
  },
  {
   "cell_type": "code",
   "execution_count": 1,
   "metadata": {
    "_cell_guid": "b1076dfc-b9ad-4769-8c92-a6c4dae69d19",
    "_uuid": "8f2839f25d086af736a60e9eeb907d3b93b6e0e5"
   },
   "outputs": [],
   "source": [
    "import numpy as np # linear algebra\n",
    "import pandas as pd # data processing, CSV file I/O (e.g. pd.read_csv)\n",
    "import matplotlib.pyplot as plt\n",
    "\n",
    "import warnings\n",
    "warnings.filterwarnings(\"ignore\", category=FutureWarning)\n",
    "\n",
    "import os\n",
    "#print(os.listdir(\"../input\"))"
   ]
  },
  {
   "cell_type": "markdown",
   "metadata": {
    "_uuid": "a79a58d43f040e85232ee90a7ed45213bda4d3a7"
   },
   "source": [
    "**Exploratory Data Analysis**\n",
    "\n",
    "First, we need to explore our data set. in this, we need some statistical data."
   ]
  },
  {
   "cell_type": "code",
   "execution_count": 3,
   "metadata": {
    "_cell_guid": "79c7e3d0-c299-4dcb-8224-4455121ee9b0",
    "_uuid": "d629ff2d2480ee46fbb7e2d37f6b5fab8052498a"
   },
   "outputs": [
    {
     "name": "stdout",
     "output_type": "stream",
     "text": [
      "<class 'pandas.core.frame.DataFrame'>\n",
      "RangeIndex: 100 entries, 0 to 99\n",
      "Data columns (total 10 columns):\n",
      "id                   100 non-null int64\n",
      "diagnosis_result     100 non-null object\n",
      "radius               100 non-null int64\n",
      "texture              100 non-null int64\n",
      "perimeter            100 non-null int64\n",
      "area                 100 non-null int64\n",
      "smoothness           100 non-null float64\n",
      "compactness          100 non-null float64\n",
      "symmetry             100 non-null float64\n",
      "fractal_dimension    100 non-null float64\n",
      "dtypes: float64(4), int64(5), object(1)\n",
      "memory usage: 7.9+ KB\n"
     ]
    }
   ],
   "source": [
    "df = pd.read_csv('Prostate_Cancer.csv')\n",
    "df.info()"
   ]
  },
  {
   "cell_type": "markdown",
   "metadata": {
    "_uuid": "13846fab113f756982b789ee01437030baa9816e"
   },
   "source": [
    "There are 10 columns and 100 rows in total. There is no missing value. There are 1 types of objects, while others are INT and float types. I will convert all columns to float type in order to make it more convenient. I'il erase your id value."
   ]
  },
  {
   "cell_type": "code",
   "execution_count": 4,
   "metadata": {
    "_uuid": "e7aaa20e921309bda6e970fb044874bca7c1d76d"
   },
   "outputs": [
    {
     "name": "stdout",
     "output_type": "stream",
     "text": [
      "<class 'pandas.core.frame.DataFrame'>\n",
      "RangeIndex: 100 entries, 0 to 99\n",
      "Data columns (total 9 columns):\n",
      "diagnosis_result     100 non-null object\n",
      "radius               100 non-null int64\n",
      "texture              100 non-null int64\n",
      "perimeter            100 non-null int64\n",
      "area                 100 non-null int64\n",
      "smoothness           100 non-null float64\n",
      "compactness          100 non-null float64\n",
      "symmetry             100 non-null float64\n",
      "fractal_dimension    100 non-null float64\n",
      "dtypes: float64(4), int64(4), object(1)\n",
      "memory usage: 7.2+ KB\n"
     ]
    }
   ],
   "source": [
    "df.drop([\"id\"],axis=1,inplace = True)\n",
    "df.info()"
   ]
  },
  {
   "cell_type": "code",
   "execution_count": 5,
   "metadata": {
    "_uuid": "94124957ae6bcbeeff4b129032a7f5ff09d68252"
   },
   "outputs": [],
   "source": [
    "# we convert data type the float.\n",
    "columns = ['radius','texture','perimeter','area']\n",
    "\n",
    "for column in columns:\n",
    "    df[column] = df[column].astype(float)"
   ]
  },
  {
   "cell_type": "code",
   "execution_count": 6,
   "metadata": {
    "_uuid": "1e05330524468210979c71c2a4ba0b8db915e06d"
   },
   "outputs": [
    {
     "name": "stdout",
     "output_type": "stream",
     "text": [
      "<class 'pandas.core.frame.DataFrame'>\n",
      "RangeIndex: 100 entries, 0 to 99\n",
      "Data columns (total 9 columns):\n",
      "diagnosis_result     100 non-null object\n",
      "radius               100 non-null float64\n",
      "texture              100 non-null float64\n",
      "perimeter            100 non-null float64\n",
      "area                 100 non-null float64\n",
      "smoothness           100 non-null float64\n",
      "compactness          100 non-null float64\n",
      "symmetry             100 non-null float64\n",
      "fractal_dimension    100 non-null float64\n",
      "dtypes: float64(8), object(1)\n",
      "memory usage: 7.2+ KB\n"
     ]
    }
   ],
   "source": [
    "df.info()"
   ]
  },
  {
   "cell_type": "markdown",
   "metadata": {
    "_uuid": "cb3f50dd558fa29651bdf03f53532f9f874f5758"
   },
   "source": [
    "Let's look at the data for the first 15."
   ]
  },
  {
   "cell_type": "code",
   "execution_count": 7,
   "metadata": {
    "_uuid": "78375875d81f121a96843a84a7fd372e4fa6ba14"
   },
   "outputs": [
    {
     "data": {
      "text/html": [
       "<div>\n",
       "<style scoped>\n",
       "    .dataframe tbody tr th:only-of-type {\n",
       "        vertical-align: middle;\n",
       "    }\n",
       "\n",
       "    .dataframe tbody tr th {\n",
       "        vertical-align: top;\n",
       "    }\n",
       "\n",
       "    .dataframe thead th {\n",
       "        text-align: right;\n",
       "    }\n",
       "</style>\n",
       "<table border=\"1\" class=\"dataframe\">\n",
       "  <thead>\n",
       "    <tr style=\"text-align: right;\">\n",
       "      <th></th>\n",
       "      <th>diagnosis_result</th>\n",
       "      <th>radius</th>\n",
       "      <th>texture</th>\n",
       "      <th>perimeter</th>\n",
       "      <th>area</th>\n",
       "      <th>smoothness</th>\n",
       "      <th>compactness</th>\n",
       "      <th>symmetry</th>\n",
       "      <th>fractal_dimension</th>\n",
       "    </tr>\n",
       "  </thead>\n",
       "  <tbody>\n",
       "    <tr>\n",
       "      <td>0</td>\n",
       "      <td>M</td>\n",
       "      <td>23.0</td>\n",
       "      <td>12.0</td>\n",
       "      <td>151.0</td>\n",
       "      <td>954.0</td>\n",
       "      <td>0.143</td>\n",
       "      <td>0.278</td>\n",
       "      <td>0.242</td>\n",
       "      <td>0.079</td>\n",
       "    </tr>\n",
       "    <tr>\n",
       "      <td>1</td>\n",
       "      <td>B</td>\n",
       "      <td>9.0</td>\n",
       "      <td>13.0</td>\n",
       "      <td>133.0</td>\n",
       "      <td>1326.0</td>\n",
       "      <td>0.143</td>\n",
       "      <td>0.079</td>\n",
       "      <td>0.181</td>\n",
       "      <td>0.057</td>\n",
       "    </tr>\n",
       "    <tr>\n",
       "      <td>2</td>\n",
       "      <td>M</td>\n",
       "      <td>21.0</td>\n",
       "      <td>27.0</td>\n",
       "      <td>130.0</td>\n",
       "      <td>1203.0</td>\n",
       "      <td>0.125</td>\n",
       "      <td>0.160</td>\n",
       "      <td>0.207</td>\n",
       "      <td>0.060</td>\n",
       "    </tr>\n",
       "    <tr>\n",
       "      <td>3</td>\n",
       "      <td>M</td>\n",
       "      <td>14.0</td>\n",
       "      <td>16.0</td>\n",
       "      <td>78.0</td>\n",
       "      <td>386.0</td>\n",
       "      <td>0.070</td>\n",
       "      <td>0.284</td>\n",
       "      <td>0.260</td>\n",
       "      <td>0.097</td>\n",
       "    </tr>\n",
       "    <tr>\n",
       "      <td>4</td>\n",
       "      <td>M</td>\n",
       "      <td>9.0</td>\n",
       "      <td>19.0</td>\n",
       "      <td>135.0</td>\n",
       "      <td>1297.0</td>\n",
       "      <td>0.141</td>\n",
       "      <td>0.133</td>\n",
       "      <td>0.181</td>\n",
       "      <td>0.059</td>\n",
       "    </tr>\n",
       "    <tr>\n",
       "      <td>5</td>\n",
       "      <td>B</td>\n",
       "      <td>25.0</td>\n",
       "      <td>25.0</td>\n",
       "      <td>83.0</td>\n",
       "      <td>477.0</td>\n",
       "      <td>0.128</td>\n",
       "      <td>0.170</td>\n",
       "      <td>0.209</td>\n",
       "      <td>0.076</td>\n",
       "    </tr>\n",
       "    <tr>\n",
       "      <td>6</td>\n",
       "      <td>M</td>\n",
       "      <td>16.0</td>\n",
       "      <td>26.0</td>\n",
       "      <td>120.0</td>\n",
       "      <td>1040.0</td>\n",
       "      <td>0.095</td>\n",
       "      <td>0.109</td>\n",
       "      <td>0.179</td>\n",
       "      <td>0.057</td>\n",
       "    </tr>\n",
       "    <tr>\n",
       "      <td>7</td>\n",
       "      <td>M</td>\n",
       "      <td>15.0</td>\n",
       "      <td>18.0</td>\n",
       "      <td>90.0</td>\n",
       "      <td>578.0</td>\n",
       "      <td>0.119</td>\n",
       "      <td>0.165</td>\n",
       "      <td>0.220</td>\n",
       "      <td>0.075</td>\n",
       "    </tr>\n",
       "    <tr>\n",
       "      <td>8</td>\n",
       "      <td>M</td>\n",
       "      <td>19.0</td>\n",
       "      <td>24.0</td>\n",
       "      <td>88.0</td>\n",
       "      <td>520.0</td>\n",
       "      <td>0.127</td>\n",
       "      <td>0.193</td>\n",
       "      <td>0.235</td>\n",
       "      <td>0.074</td>\n",
       "    </tr>\n",
       "    <tr>\n",
       "      <td>9</td>\n",
       "      <td>M</td>\n",
       "      <td>25.0</td>\n",
       "      <td>11.0</td>\n",
       "      <td>84.0</td>\n",
       "      <td>476.0</td>\n",
       "      <td>0.119</td>\n",
       "      <td>0.240</td>\n",
       "      <td>0.203</td>\n",
       "      <td>0.082</td>\n",
       "    </tr>\n",
       "    <tr>\n",
       "      <td>10</td>\n",
       "      <td>M</td>\n",
       "      <td>24.0</td>\n",
       "      <td>21.0</td>\n",
       "      <td>103.0</td>\n",
       "      <td>798.0</td>\n",
       "      <td>0.082</td>\n",
       "      <td>0.067</td>\n",
       "      <td>0.153</td>\n",
       "      <td>0.057</td>\n",
       "    </tr>\n",
       "    <tr>\n",
       "      <td>11</td>\n",
       "      <td>M</td>\n",
       "      <td>17.0</td>\n",
       "      <td>15.0</td>\n",
       "      <td>104.0</td>\n",
       "      <td>781.0</td>\n",
       "      <td>0.097</td>\n",
       "      <td>0.129</td>\n",
       "      <td>0.184</td>\n",
       "      <td>0.061</td>\n",
       "    </tr>\n",
       "    <tr>\n",
       "      <td>12</td>\n",
       "      <td>B</td>\n",
       "      <td>14.0</td>\n",
       "      <td>15.0</td>\n",
       "      <td>132.0</td>\n",
       "      <td>1123.0</td>\n",
       "      <td>0.097</td>\n",
       "      <td>0.246</td>\n",
       "      <td>0.240</td>\n",
       "      <td>0.078</td>\n",
       "    </tr>\n",
       "    <tr>\n",
       "      <td>13</td>\n",
       "      <td>M</td>\n",
       "      <td>12.0</td>\n",
       "      <td>22.0</td>\n",
       "      <td>104.0</td>\n",
       "      <td>783.0</td>\n",
       "      <td>0.084</td>\n",
       "      <td>0.100</td>\n",
       "      <td>0.185</td>\n",
       "      <td>0.053</td>\n",
       "    </tr>\n",
       "    <tr>\n",
       "      <td>14</td>\n",
       "      <td>M</td>\n",
       "      <td>12.0</td>\n",
       "      <td>13.0</td>\n",
       "      <td>94.0</td>\n",
       "      <td>578.0</td>\n",
       "      <td>0.113</td>\n",
       "      <td>0.229</td>\n",
       "      <td>0.207</td>\n",
       "      <td>0.077</td>\n",
       "    </tr>\n",
       "  </tbody>\n",
       "</table>\n",
       "</div>"
      ],
      "text/plain": [
       "   diagnosis_result  radius  texture  perimeter    area  smoothness  \\\n",
       "0                 M    23.0     12.0      151.0   954.0       0.143   \n",
       "1                 B     9.0     13.0      133.0  1326.0       0.143   \n",
       "2                 M    21.0     27.0      130.0  1203.0       0.125   \n",
       "3                 M    14.0     16.0       78.0   386.0       0.070   \n",
       "4                 M     9.0     19.0      135.0  1297.0       0.141   \n",
       "5                 B    25.0     25.0       83.0   477.0       0.128   \n",
       "6                 M    16.0     26.0      120.0  1040.0       0.095   \n",
       "7                 M    15.0     18.0       90.0   578.0       0.119   \n",
       "8                 M    19.0     24.0       88.0   520.0       0.127   \n",
       "9                 M    25.0     11.0       84.0   476.0       0.119   \n",
       "10                M    24.0     21.0      103.0   798.0       0.082   \n",
       "11                M    17.0     15.0      104.0   781.0       0.097   \n",
       "12                B    14.0     15.0      132.0  1123.0       0.097   \n",
       "13                M    12.0     22.0      104.0   783.0       0.084   \n",
       "14                M    12.0     13.0       94.0   578.0       0.113   \n",
       "\n",
       "    compactness  symmetry  fractal_dimension  \n",
       "0         0.278     0.242              0.079  \n",
       "1         0.079     0.181              0.057  \n",
       "2         0.160     0.207              0.060  \n",
       "3         0.284     0.260              0.097  \n",
       "4         0.133     0.181              0.059  \n",
       "5         0.170     0.209              0.076  \n",
       "6         0.109     0.179              0.057  \n",
       "7         0.165     0.220              0.075  \n",
       "8         0.193     0.235              0.074  \n",
       "9         0.240     0.203              0.082  \n",
       "10        0.067     0.153              0.057  \n",
       "11        0.129     0.184              0.061  \n",
       "12        0.246     0.240              0.078  \n",
       "13        0.100     0.185              0.053  \n",
       "14        0.229     0.207              0.077  "
      ]
     },
     "execution_count": 7,
     "metadata": {},
     "output_type": "execute_result"
    }
   ],
   "source": [
    "df.head(15)"
   ]
  },
  {
   "cell_type": "markdown",
   "metadata": {
    "_uuid": "526c51db119d1f0df610a7dfbbfb5417f41bbf1e"
   },
   "source": [
    "diagnosis_result column includes only two class names; M and B. Let's convert it as 1 and 0."
   ]
  },
  {
   "cell_type": "code",
   "execution_count": 8,
   "metadata": {
    "_uuid": "3740a5ddc7aa361a8c1126e471fdeb543765c7fb"
   },
   "outputs": [],
   "source": [
    "#Convert two class names to 0 and 1\n",
    "df.diagnosis_result = [1 if each == \"M\" else 0 for each in df.diagnosis_result]"
   ]
  },
  {
   "cell_type": "markdown",
   "metadata": {
    "_uuid": "bb9b8735f62f0e2992914fc2860a76d46eeead1c"
   },
   "source": [
    "describe is gives some statistical values about data set, such as max,min,mean,median etc."
   ]
  },
  {
   "cell_type": "code",
   "execution_count": 9,
   "metadata": {
    "_uuid": "90089400e89e2e8ae60bb40b4983fcaaff342e8b"
   },
   "outputs": [
    {
     "data": {
      "text/html": [
       "<div>\n",
       "<style scoped>\n",
       "    .dataframe tbody tr th:only-of-type {\n",
       "        vertical-align: middle;\n",
       "    }\n",
       "\n",
       "    .dataframe tbody tr th {\n",
       "        vertical-align: top;\n",
       "    }\n",
       "\n",
       "    .dataframe thead th {\n",
       "        text-align: right;\n",
       "    }\n",
       "</style>\n",
       "<table border=\"1\" class=\"dataframe\">\n",
       "  <thead>\n",
       "    <tr style=\"text-align: right;\">\n",
       "      <th></th>\n",
       "      <th>diagnosis_result</th>\n",
       "      <th>radius</th>\n",
       "      <th>texture</th>\n",
       "      <th>perimeter</th>\n",
       "      <th>area</th>\n",
       "      <th>smoothness</th>\n",
       "      <th>compactness</th>\n",
       "      <th>symmetry</th>\n",
       "      <th>fractal_dimension</th>\n",
       "    </tr>\n",
       "  </thead>\n",
       "  <tbody>\n",
       "    <tr>\n",
       "      <td>count</td>\n",
       "      <td>100.000000</td>\n",
       "      <td>100.000000</td>\n",
       "      <td>100.000000</td>\n",
       "      <td>100.000000</td>\n",
       "      <td>100.000000</td>\n",
       "      <td>100.000000</td>\n",
       "      <td>100.000000</td>\n",
       "      <td>100.000000</td>\n",
       "      <td>100.000000</td>\n",
       "    </tr>\n",
       "    <tr>\n",
       "      <td>mean</td>\n",
       "      <td>0.620000</td>\n",
       "      <td>16.850000</td>\n",
       "      <td>18.230000</td>\n",
       "      <td>96.780000</td>\n",
       "      <td>702.880000</td>\n",
       "      <td>0.102730</td>\n",
       "      <td>0.126700</td>\n",
       "      <td>0.193170</td>\n",
       "      <td>0.064690</td>\n",
       "    </tr>\n",
       "    <tr>\n",
       "      <td>std</td>\n",
       "      <td>0.487832</td>\n",
       "      <td>4.879094</td>\n",
       "      <td>5.192954</td>\n",
       "      <td>23.676089</td>\n",
       "      <td>319.710895</td>\n",
       "      <td>0.014642</td>\n",
       "      <td>0.061144</td>\n",
       "      <td>0.030785</td>\n",
       "      <td>0.008151</td>\n",
       "    </tr>\n",
       "    <tr>\n",
       "      <td>min</td>\n",
       "      <td>0.000000</td>\n",
       "      <td>9.000000</td>\n",
       "      <td>11.000000</td>\n",
       "      <td>52.000000</td>\n",
       "      <td>202.000000</td>\n",
       "      <td>0.070000</td>\n",
       "      <td>0.038000</td>\n",
       "      <td>0.135000</td>\n",
       "      <td>0.053000</td>\n",
       "    </tr>\n",
       "    <tr>\n",
       "      <td>25%</td>\n",
       "      <td>0.000000</td>\n",
       "      <td>12.000000</td>\n",
       "      <td>14.000000</td>\n",
       "      <td>82.500000</td>\n",
       "      <td>476.750000</td>\n",
       "      <td>0.093500</td>\n",
       "      <td>0.080500</td>\n",
       "      <td>0.172000</td>\n",
       "      <td>0.059000</td>\n",
       "    </tr>\n",
       "    <tr>\n",
       "      <td>50%</td>\n",
       "      <td>1.000000</td>\n",
       "      <td>17.000000</td>\n",
       "      <td>17.500000</td>\n",
       "      <td>94.000000</td>\n",
       "      <td>644.000000</td>\n",
       "      <td>0.102000</td>\n",
       "      <td>0.118500</td>\n",
       "      <td>0.190000</td>\n",
       "      <td>0.063000</td>\n",
       "    </tr>\n",
       "    <tr>\n",
       "      <td>75%</td>\n",
       "      <td>1.000000</td>\n",
       "      <td>21.000000</td>\n",
       "      <td>22.250000</td>\n",
       "      <td>114.250000</td>\n",
       "      <td>917.000000</td>\n",
       "      <td>0.112000</td>\n",
       "      <td>0.157000</td>\n",
       "      <td>0.209000</td>\n",
       "      <td>0.069000</td>\n",
       "    </tr>\n",
       "    <tr>\n",
       "      <td>max</td>\n",
       "      <td>1.000000</td>\n",
       "      <td>25.000000</td>\n",
       "      <td>27.000000</td>\n",
       "      <td>172.000000</td>\n",
       "      <td>1878.000000</td>\n",
       "      <td>0.143000</td>\n",
       "      <td>0.345000</td>\n",
       "      <td>0.304000</td>\n",
       "      <td>0.097000</td>\n",
       "    </tr>\n",
       "  </tbody>\n",
       "</table>\n",
       "</div>"
      ],
      "text/plain": [
       "       diagnosis_result      radius     texture   perimeter         area  \\\n",
       "count        100.000000  100.000000  100.000000  100.000000   100.000000   \n",
       "mean           0.620000   16.850000   18.230000   96.780000   702.880000   \n",
       "std            0.487832    4.879094    5.192954   23.676089   319.710895   \n",
       "min            0.000000    9.000000   11.000000   52.000000   202.000000   \n",
       "25%            0.000000   12.000000   14.000000   82.500000   476.750000   \n",
       "50%            1.000000   17.000000   17.500000   94.000000   644.000000   \n",
       "75%            1.000000   21.000000   22.250000  114.250000   917.000000   \n",
       "max            1.000000   25.000000   27.000000  172.000000  1878.000000   \n",
       "\n",
       "       smoothness  compactness    symmetry  fractal_dimension  \n",
       "count  100.000000   100.000000  100.000000         100.000000  \n",
       "mean     0.102730     0.126700    0.193170           0.064690  \n",
       "std      0.014642     0.061144    0.030785           0.008151  \n",
       "min      0.070000     0.038000    0.135000           0.053000  \n",
       "25%      0.093500     0.080500    0.172000           0.059000  \n",
       "50%      0.102000     0.118500    0.190000           0.063000  \n",
       "75%      0.112000     0.157000    0.209000           0.069000  \n",
       "max      0.143000     0.345000    0.304000           0.097000  "
      ]
     },
     "execution_count": 9,
     "metadata": {},
     "output_type": "execute_result"
    }
   ],
   "source": [
    "df.describe()"
   ]
  },
  {
   "cell_type": "markdown",
   "metadata": {
    "_uuid": "283fe2bf118463a8f6801b642bad19dd3f485a6a"
   },
   "source": [
    "**Assigning X and Y values**\n",
    "\n",
    "We need to split our data into two dimension as x and y values. y value is our class name, which gives if the row is M or B. So, we assign diagnosis_result column as y values then drop the column from data set. The rest of the data ; all radius, texture..., fractal_dimension columns will be our x value."
   ]
  },
  {
   "cell_type": "code",
   "execution_count": 10,
   "metadata": {
    "_uuid": "a02e9792ff51c31ebf34bf6fd3e559742a46225a"
   },
   "outputs": [],
   "source": [
    "#assign Class_att column as y attribute\n",
    "y = df.diagnosis_result.values\n",
    "\n",
    "#drop Class_att column, remain only numerical columns\n",
    "x_data = df.drop([\"diagnosis_result\"],axis=1)"
   ]
  },
  {
   "cell_type": "markdown",
   "metadata": {
    "_uuid": "25ec3d501fac5f461046985acff36803ada9b72a"
   },
   "source": [
    "**Normalization**\n",
    "\n",
    "Statistical data shows us how big some values are and how small some values are. Here, 1area data is so big that it affects others. For example, 1symetry data is very small, and when we use it to process it will have no effect, because other data is very large. So we need to normalize this. Below is the formula for normalization. Here, the minimum value of each value is subtracted from itself and then the maximum value of each value is subtracted from the minimum value. We're splitting each other.\n",
    "\n",
    "**Normalization = (x - min(x))/(max(x)-min(x))**"
   ]
  },
  {
   "cell_type": "code",
   "execution_count": 11,
   "metadata": {
    "_uuid": "d5eca82ed7c2617e48d6f7d2a310e89f33fce822"
   },
   "outputs": [],
   "source": [
    "x = (x_data - np.min(x_data))/(np.max(x_data)-np.min(x_data)).values"
   ]
  },
  {
   "cell_type": "markdown",
   "metadata": {
    "_uuid": "38e04a80d1e746d919d323020fd3d3c85a13a65d"
   },
   "source": [
    "**Let's split the data as test and train.**\n",
    "\n",
    "We need to determine whether our algorithm is successful. We're going to split the data for this. Where 20% of the data is usually test data and 80% is training data. We'il train our algorithm. At the end of the training we will compare the results with the real data.\n",
    "\n",
    "The Train_test_split function randomly divides data. If we give a random_state parameter, it always splits the data in the same way. This prevents you from receiving different results each time you run the entire algorithm. the random_state = 42 parameter is used to stabilize randomization. random_state divides the data randomly, but you receive the same train and test data according to a rule and each time you run the algorithm."
   ]
  },
  {
   "cell_type": "code",
   "execution_count": 12,
   "metadata": {
    "_uuid": "04e77c1cded575bd4ccddda8320669e0917436be"
   },
   "outputs": [],
   "source": [
    "from sklearn.model_selection import train_test_split\n",
    "x_train, x_test, y_train, y_test = train_test_split(x, y, test_size=0.2,random_state =42)"
   ]
  },
  {
   "cell_type": "markdown",
   "metadata": {
    "_uuid": "9627cdf780a138abf9c411be89775ad80224f8b4"
   },
   "source": [
    "At this point, there are two methods. The first is a long way to apply mathematical formulas and the other is a short way to use the sklearn library. The above code is common to both solutions.\n",
    "\n",
    "Before you begin, I will transpose all x_train, x_test, y_train, y_test  matrices to make the matrix multiplication easier for the next steps."
   ]
  },
  {
   "cell_type": "code",
   "execution_count": 13,
   "metadata": {
    "_uuid": "3890c70cdb6d2c9872bd505d2f1c18d56b9b2ed4"
   },
   "outputs": [],
   "source": [
    "#transpose matrices\n",
    "x_train = x_train.T\n",
    "y_train = y_train.T\n",
    "x_test = x_test.T\n",
    "y_test = y_test.T"
   ]
  },
  {
   "cell_type": "markdown",
   "metadata": {
    "_uuid": "cc34008552b73505746063cb5a2a59cf76469cd0"
   },
   "source": [
    "**The First Way**"
   ]
  },
  {
   "cell_type": "markdown",
   "metadata": {
    "_uuid": "b35c6f0863d0d6d0c057b2813e2b35df88936b26"
   },
   "source": [
    "![](https://cdn-images-1.medium.com/max/800/1*X-FJtdd1MgyA-h5ovc7X5w.jpeg)"
   ]
  },
  {
   "cell_type": "markdown",
   "metadata": {
    "_uuid": "1aae2c5dc0051bb07767551617558fd4a334f077"
   },
   "source": [
    "Most often, we would want to predict our outcomes as YES/NO (1/0).\n",
    "\n",
    "For example:\n",
    "\n",
    "Is your favorite football team going to win the match today? — yes/no (0/1)\n",
    "\n",
    "Does a student pass in exam? — yes/no (0/1)\n",
    "\n",
    "The logistic function is given by:\n",
    "\n",
    "f(x) = L/(1+e ^-k(x-x0))\n",
    "\n",
    "where\n",
    "\n",
    "L – Curve’s maximum value\n",
    "\n",
    "k – Steepness of the curve\n",
    "\n",
    "x0 – x value of Sigmoid’s midpoint\n",
    "\n",
    "A standard logistic function is called sigmoid function (k=1,x0=0,L=1)"
   ]
  },
  {
   "cell_type": "code",
   "execution_count": 14,
   "metadata": {
    "_uuid": "8a5b5eeecf2f63eee41ba6da54a37b2ecfb7618d"
   },
   "outputs": [],
   "source": [
    "#parameter initialize and sigmoid function\n",
    "def initialize_weights_and_bias(dimension):\n",
    "    \n",
    "    w = np.full((dimension,1),0.01) #first initialize w values to 0.01\n",
    "    b = 0.0 #first initialize bias value to 0.0\n",
    "    return w,b"
   ]
  },
  {
   "cell_type": "markdown",
   "metadata": {
    "_uuid": "2d5c88f39f0f4caa8bf02cc76de3952e0fcbe0b2"
   },
   "source": [
    "This is sigmoid formula -> S(x) = 1/1+ ( e ^ - x)\n",
    "\n",
    "The sigmoid function gives an ‘S’ shaped curve.\n",
    "\n",
    "This curve has a finite limit of:\n",
    "\n",
    "‘0’ as x approaches −∞\n",
    "\n",
    "‘1’ as x approaches +∞\n",
    "\n",
    "The output of sigmoid function when x=0 is 0.5\n",
    "\n",
    "Thus, if the output is more tan 0.5 , we can classify the outcome as 1 (or YES) and if it is less than 0.5 , we can classify it as 0(or NO) ."
   ]
  },
  {
   "cell_type": "code",
   "execution_count": 15,
   "metadata": {
    "_uuid": "f204fe4c3d248b06450fed187478ac06bc44a0c8"
   },
   "outputs": [],
   "source": [
    "#sigmoid function fits the z value between 0 and 1\n",
    "def sigmoid(z):\n",
    "    \n",
    "    y_head = 1/(1+ np.exp(-z))\n",
    "    return y_head"
   ]
  },
  {
   "cell_type": "markdown",
   "metadata": {
    "_uuid": "8ec68ef87b8dee7eb2029d5d7d0182137d74fdf1"
   },
   "source": [
    "Let's write a function that calculates y_head, loss and cost values as forward propagation, and calculates derivatives of w and b as backpropagation."
   ]
  },
  {
   "cell_type": "code",
   "execution_count": 16,
   "metadata": {
    "_uuid": "53fec27b9d738f4c8c3717861983fbb159b2689c"
   },
   "outputs": [],
   "source": [
    "def forward_backward_propagation(w,b,x_train,y_train):\n",
    "    # forward propagation\n",
    "    \n",
    "    y_head = sigmoid(np.dot(w.T,x_train) + b)\n",
    "    loss = -(y_train*np.log(y_head) + (1-y_train)*np.log(1-y_head))\n",
    "    cost = np.sum(loss) / x_train.shape[1]\n",
    "    \n",
    "    # backward propagation\n",
    "    derivative_weight = np.dot(x_train,((y_head-y_train).T))/x_train.shape[1]\n",
    "    derivative_bias = np.sum(y_head-y_train)/x_train.shape[1]\n",
    "    gradients = {\"derivative_weight\" : derivative_weight, \"derivative_bias\" : derivative_bias}\n",
    "    \n",
    "    return cost,gradients"
   ]
  },
  {
   "cell_type": "markdown",
   "metadata": {
    "_uuid": "9394e08fb5afb49700f74cfd19e801e45acdaa99"
   },
   "source": [
    "if the weight and bias values are not as desired, we will update them with the following function."
   ]
  },
  {
   "cell_type": "code",
   "execution_count": 17,
   "metadata": {
    "_uuid": "1b2fa410885ba42d5272850ec56561ff81b670be"
   },
   "outputs": [],
   "source": [
    "def update_weight_and_bias(w,b,x_train,y_train,learning_rate,iteration_num) :\n",
    "    cost_list = []\n",
    "    index = []\n",
    "    \n",
    "    #for each iteration, update w and b values\n",
    "    for i in range(iteration_num):\n",
    "        cost,gradients = forward_backward_propagation(w,b,x_train,y_train)\n",
    "        w = w - learning_rate*gradients[\"derivative_weight\"]\n",
    "        b = b - learning_rate*gradients[\"derivative_bias\"]\n",
    "        \n",
    "        cost_list.append(cost)\n",
    "        index.append(i)\n",
    "\n",
    "    parameters = {\"weight\": w,\"bias\": b}\n",
    "    \n",
    "    print(\"iteration_num:\",iteration_num)\n",
    "    print(\"cost:\",cost)\n",
    "\n",
    "    #plot cost versus iteration graph to see how the cost changes over number of iterations\n",
    "    plt.plot(index,cost_list)\n",
    "    plt.xlabel(\"Number of iteration\")\n",
    "    plt.ylabel(\"Cost\")\n",
    "    plt.show()\n",
    "\n",
    "    return parameters, gradients"
   ]
  },
  {
   "cell_type": "markdown",
   "metadata": {
    "_uuid": "cd7553501536ff63d5ca790b26b92603ede94062"
   },
   "source": [
    "We're writing our code for the guess. Here we have already obtained the necessary w and b values."
   ]
  },
  {
   "cell_type": "code",
   "execution_count": 18,
   "metadata": {
    "_uuid": "68e7f09080172e54eac6bebffceac0b5af689c7d"
   },
   "outputs": [],
   "source": [
    "def predict(w,b,x_test):\n",
    "    z = np.dot(w.T,x_test) + b\n",
    "    y_predicted_head = sigmoid(z)\n",
    "    \n",
    "    #create new array with the same size of x_test and fill with 0's.\n",
    "    y_prediction = np.zeros((1,x_test.shape[1]))\n",
    "    \n",
    "    for i in range(y_predicted_head.shape[1]):\n",
    "        if y_predicted_head[0,i] <= 0.5:\n",
    "            y_prediction[0,i] = 0\n",
    "        else:\n",
    "            y_prediction[0,i] = 1\n",
    "    return y_prediction"
   ]
  },
  {
   "cell_type": "markdown",
   "metadata": {
    "_uuid": "2ddc068fffd6a0383d3cba8ed826c2589dc758f0"
   },
   "source": [
    "We combine all the formulas in a function. For accuracy, we compare the y_test value and the calculated y_prediction array. Both arrays contain values 0 and 1. If y_test and y_prediction are the same, the result is true."
   ]
  },
  {
   "cell_type": "code",
   "execution_count": 19,
   "metadata": {
    "_uuid": "5e7f3a46b3c1390358ce5d5df11b9c660d9fa355"
   },
   "outputs": [],
   "source": [
    "def logistic_regression(x_train,y_train,x_test,y_test,learning_rate,iteration_num):\n",
    "    dimension = x_train.shape[0]#For our dataset, dimension is 248\n",
    "    w,b = initialize_weights_and_bias(dimension)\n",
    "    \n",
    "    parameters, gradients = update_weight_and_bias(w,b,x_train,y_train,learning_rate,iteration_num)\n",
    "\n",
    "    y_prediction = predict(parameters[\"weight\"],parameters[\"bias\"],x_test)\n",
    "    \n",
    "    # Print test Accuracy\n",
    "    print(\"manuel test accuracy:\",(100 - np.mean(np.abs(y_prediction - y_test))*100)/100)"
   ]
  },
  {
   "cell_type": "markdown",
   "metadata": {
    "_uuid": "fbdfd0ea3b73591c4f4b9190fbdd67bec970963e"
   },
   "source": [
    "we will give some values to learning rate and number_of_iterations parameters. Start with learning_rate = 1 and number_of_iterations = 10"
   ]
  },
  {
   "cell_type": "code",
   "execution_count": 20,
   "metadata": {
    "_uuid": "1b543ec1b751947f7f6b119faba07f08ff041702"
   },
   "outputs": [
    {
     "name": "stdout",
     "output_type": "stream",
     "text": [
      "iteration_num: 10\n",
      "cost: 0.596109042091418\n"
     ]
    },
    {
     "data": {
      "image/png": "[encoded data removed]",
      "text/plain": [
       "<Figure size 432x288 with 1 Axes>"
      ]
     },
     "metadata": {
      "needs_background": "light"
     },
     "output_type": "display_data"
    },
    {
     "name": "stdout",
     "output_type": "stream",
     "text": [
      "manuel test accuracy: 0.8\n"
     ]
    }
   ],
   "source": [
    "logistic_regression(x_train,y_train,x_test,y_test,1,10)"
   ]
  },
  {
   "cell_type": "markdown",
   "metadata": {
    "_uuid": "aec927a4d9ae3be0ca5083c52c51341525e21f27"
   },
   "source": [
    "Now let's give Learning_rate = 10 and number_of_iterations = 10."
   ]
  },
  {
   "cell_type": "code",
   "execution_count": 21,
   "metadata": {
    "_uuid": "0c01e69bb2a2efb652e0253ef0ec4c8a8abaeba4"
   },
   "outputs": [
    {
     "name": "stdout",
     "output_type": "stream",
     "text": [
      "iteration_num: 10\n",
      "cost: 0.8968661946318928\n"
     ]
    },
    {
     "data": {
      "image/png": "[encoded data removed]",
      "text/plain": [
       "<Figure size 432x288 with 1 Axes>"
      ]
     },
     "metadata": {
      "needs_background": "light"
     },
     "output_type": "display_data"
    },
    {
     "name": "stdout",
     "output_type": "stream",
     "text": [
      "manuel test accuracy: 0.35\n"
     ]
    }
   ],
   "source": [
    "logistic_regression(x_train,y_train,x_test,y_test,10,10)"
   ]
  },
  {
   "cell_type": "markdown",
   "metadata": {
    "_uuid": "c7d0dbcaf6dc3d1befd63f9b7660cab01e142840"
   },
   "source": [
    "as learning_rate increases, it increases in cost, but it increases in accuracy."
   ]
  },
  {
   "cell_type": "code",
   "execution_count": 22,
   "metadata": {
    "_uuid": "2e9c6afb424299e3992fde1496401f8a2d0717e3"
   },
   "outputs": [
    {
     "name": "stdout",
     "output_type": "stream",
     "text": [
      "iteration_num: 200\n",
      "cost: 0.2853573837204247\n"
     ]
    },
    {
     "data": {
      "image/png": "[encoded data removed]",
      "text/plain": [
       "<Figure size 432x288 with 1 Axes>"
      ]
     },
     "metadata": {
      "needs_background": "light"
     },
     "output_type": "display_data"
    },
    {
     "name": "stdout",
     "output_type": "stream",
     "text": [
      "manuel test accuracy: 0.85\n"
     ]
    }
   ],
   "source": [
    "logistic_regression(x_train,y_train,x_test,y_test,4,200)"
   ]
  },
  {
   "cell_type": "markdown",
   "metadata": {
    "_uuid": "199122b4641d5ca3c2d8aa2015b229cbb7cc0639"
   },
   "source": [
    "when learning_rate = 4 and iteration_number = 200, the cost has been reduced too. The truth rate is very high."
   ]
  },
  {
   "cell_type": "markdown",
   "metadata": {
    "_uuid": "a85efd8a1254512a7ed985c7171b468a5d58b6f8"
   },
   "source": [
    "**The Second Way : Sklearn Library **\n",
    "\n",
    "With using sklearn library, we can create a logistic regression model and find the accuracy easliy like below:"
   ]
  },
  {
   "cell_type": "code",
   "execution_count": 23,
   "metadata": {
    "_uuid": "0f7e9b7fcf83c847ffed47416b793382fd753942"
   },
   "outputs": [
    {
     "name": "stdout",
     "output_type": "stream",
     "text": [
      "sklearn test accuracy: 0.75\n"
     ]
    }
   ],
   "source": [
    "from sklearn.linear_model import LogisticRegression\n",
    "\n",
    "lr_model = LogisticRegression()\n",
    "\n",
    "lr_model.fit(x_train.T,y_train.T)\n",
    "\n",
    "print(\"sklearn test accuracy:\", lr_model.score(x_test.T,y_test.T))"
   ]
  },
  {
   "cell_type": "markdown",
   "metadata": {
    "_uuid": "6af429904b9f0bafa96e4e0477817e21315385da"
   },
   "source": [
    "# **Conclusion**\n",
    "\n",
    "* If you like it, thank you for you upvotes.\n",
    "* If you have any question, I will happy to hear it"
   ]
  },
  {
   "cell_type": "code",
   "execution_count": null,
   "metadata": {},
   "outputs": [],
   "source": []
  },
  {
   "cell_type": "code",
   "execution_count": null,
   "metadata": {},
   "outputs": [],
   "source": []
  }
 ],
 "metadata": {
  "kernelspec": {
   "display_name": "Python 3",
   "language": "python",
   "name": "python3"
  },
  "language_info": {
   "codemirror_mode": {
    "name": "ipython",
    "version": 3
   },
   "file_extension": ".py",
   "mimetype": "text/x-python",
   "name": "python",
   "nbconvert_exporter": "python",
   "pygments_lexer": "ipython3",
   "version": "3.7.4"
  }
 },
 "nbformat": 4,
 "nbformat_minor": 1
}
