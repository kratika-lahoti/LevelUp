{
 "cells": [
  {
   "cell_type": "code",
   "execution_count": 2,
   "metadata": {
    "_cell_guid": "b1076dfc-b9ad-4769-8c92-a6c4dae69d19",
    "_uuid": "8f2839f25d086af736a60e9eeb907d3b93b6e0e5"
   },
   "outputs": [
    {
     "name": "stdout",
     "output_type": "stream",
     "text": [
      "['cell_images', 'Parasitized', 'Parasitized_', 'Uninfected', 'uninfected_']\n"
     ]
    },
    {
     "name": "stderr",
     "output_type": "stream",
     "text": [
      "Using TensorFlow backend.\n"
     ]
    }
   ],
   "source": [
    "# This Python 3 environment comes with many helpful analytics libraries installed\n",
    "# It is defined by the kaggle/python docker image: https://github.com/kaggle/docker-python\n",
    "# For example, here's several helpful packages to load in \n",
    "\n",
    "import numpy as np # linear algebra\n",
    "import pandas as pd # data processing, CSV file I/O (e.g. pd.read_csv)\n",
    "import matplotlib.pyplot as plt\n",
    "# Input data files are available in the \"../input/\" directory.\n",
    "# For example, running this (by clicking run or pressing Shift+Enter) will list the files in the input directory\n",
    "\n",
    "import os\n",
    "print(os.listdir(\"cell_images\"))\n",
    "import glob\n",
    "import cv2\n",
    "import tensorflow as tf\n",
    "from keras import layers\n",
    "from keras.layers import Dropout , Input, Add, Dense, Activation, ZeroPadding2D, BatchNormalization, Flatten, Conv2D, AveragePooling2D, MaxPooling2D, GlobalMaxPooling2D\n",
    "from keras.models import Model, load_model\n",
    "from keras.initializers import glorot_uniform\n",
    "from sklearn.model_selection import train_test_split\n",
    "import keras.backend as K\n",
    "from sklearn.utils import shuffle\n",
    "# Any results you write to the current directory are saved as output."
   ]
  },
  {
   "cell_type": "code",
   "execution_count": 3,
   "metadata": {},
   "outputs": [],
   "source": [
    "X_para = []\n",
    "Y_para = []\n",
    "myfiles = glob.glob(\"cell_images/Parasitized/*.png\")\n",
    "for file in myfiles:\n",
    "    kernel = np.array([[0,-1,0],[-1,6,-1],[0,-1,0]])\n",
    "    img = cv2.filter2D( cv2.resize(cv2.imread(file) , (120,120)) , -1 , kernel)\n",
    "    image_yuv = cv2.cvtColor(img ,cv2.COLOR_BGR2YUV )\n",
    "    image_yuv[: ,: , 0] = cv2.equalizeHist(image_yuv[:,:,0])\n",
    "    image = cv2.cvtColor(image_yuv , cv2.COLOR_YUV2RGB)\n",
    "    X_para.append(image)\n",
    "    Y_para.append(1)\n",
    "    \n"
   ]
  },
  {
   "cell_type": "code",
   "execution_count": 4,
   "metadata": {},
   "outputs": [],
   "source": [
    "X_un , Y_un = [],[]\n",
    "unfiles = glob.glob(\"cell_images/Uninfected/*.png\")\n",
    "for file in unfiles:\n",
    "    kernel = np.array([[0,-1,0],[-1,7,-1],[0,-1,0]])\n",
    "    img = cv2.filter2D( cv2.resize(cv2.imread(file) , (120,120)) , -1 , kernel)\n",
    "    X_un.append(img)\n",
    "    Y_un.append(0)\n",
    "\n",
    "    "
   ]
  },
  {
   "cell_type": "code",
   "execution_count": 5,
   "metadata": {},
   "outputs": [],
   "source": [
    "X = X_para + X_un\n",
    "Y = Y_para + Y_un\n",
    "X,Y = shuffle = (X,Y)\n",
    "#X,Y = shuffle = (X,Y)\n",
    "#X,Y = shuffle = (X,Y)\n",
    "X_train,X_test,Y_train,Y_test = train_test_split(X,Y,test_size = 0.3 , random_state =42)\n",
    "X = np.array(X)\n"
   ]
  },
  {
   "cell_type": "code",
   "execution_count": 6,
   "metadata": {},
   "outputs": [],
   "source": [
    "inp = Input(shape = (120 , 120 , 3))\n",
    "x = Conv2D(filters = 16 , kernel_size = (3,3) , strides = (1,1) , padding = \"valid\" , kernel_initializer=glorot_uniform(seed = 2))(inp)\n",
    "x = Activation(\"relu\")(x)\n",
    "x = Dropout(0.2)(x)\n",
    "x = Conv2D(filters = 32 , kernel_size = (4,4) , strides = (2,2) , padding = \"valid\" , kernel_initializer=glorot_uniform(seed = 2))(x)\n",
    "x = Activation(\"relu\")(x)\n",
    "x = MaxPooling2D(pool_size = (2,2) , strides = (2,2) , padding = \"valid\")(x)\n",
    "x = Dropout(0.2)(x)\n",
    "x = Conv2D(filters = 64 , kernel_size = (3,3) , strides = (2,2) , padding = \"valid\" , kernel_initializer = glorot_uniform(seed = 2))(x)\n",
    "x = Activation(\"relu\")(x)\n",
    "x = Dropout(0.2)(x)\n",
    "x = Conv2D(filters = 128 , kernel_size = (3,3) , strides = (1,1) , padding = \"valid\" , kernel_initializer = glorot_uniform())(x)\n",
    "x = Activation(\"relu\")(x)\n",
    "x = MaxPooling2D(pool_size = (2,2) , strides = (2,2) , padding = \"valid\")(x)\n",
    "x = Dropout(0.2)(x)\n",
    "x = Conv2D(filters = 256 , kernel_size = (2,2) , strides = (2,2) , padding = \"valid\" , kernel_initializer = glorot_uniform())(x)\n",
    "x = Activation(\"relu\")(x)\n",
    "x = AveragePooling2D(pool_size = (3,3) , strides = (1,1) , padding = \"valid\")(x)\n",
    "x = Dropout(0.2)(x)\n",
    "x = Flatten()(x)\n",
    "x = Dense(120)(x)\n",
    "x = Activation(\"relu\")(x)\n",
    "x = Dropout(0.2)(x)\n",
    "x = Dense(60)(x)\n",
    "x = Activation(\"relu\")(x)\n",
    "x = Dropout(0.2)(x)\n",
    "x = Dense(10)(x)\n",
    "x = Activation(\"relu\")(x)\n",
    "x = Dropout(0.)(x)\n",
    "x = Dense(1)(x)\n",
    "output = Activation(\"sigmoid\")(x)\n",
    "model  = Model(inputs =inp , outputs = output )"
   ]
  },
  {
   "cell_type": "code",
   "execution_count": 7,
   "metadata": {},
   "outputs": [
    {
     "name": "stdout",
     "output_type": "stream",
     "text": [
      "Train on 11012 samples, validate on 2754 samples\n",
      "Epoch 1/13\n",
      "11012/11012 [==============================] - 234s 21ms/step - loss: 0.7562 - accuracy: 0.4978 - val_loss: 0.6932 - val_accuracy: 0.5011\n",
      "Epoch 2/13\n",
      "11012/11012 [==============================] - 245s 22ms/step - loss: 0.6933 - accuracy: 0.5081 - val_loss: 0.6932 - val_accuracy: 0.5011\n",
      "Epoch 3/13\n",
      "11012/11012 [==============================] - 244s 22ms/step - loss: 0.6898 - accuracy: 0.5064 - val_loss: 0.6932 - val_accuracy: 0.4989\n",
      "Epoch 4/13\n",
      "11012/11012 [==============================] - 243s 22ms/step - loss: 0.3327 - accuracy: 0.8375 - val_loss: 0.0572 - val_accuracy: 0.9840\n",
      "Epoch 5/13\n",
      "11012/11012 [==============================] - 243s 22ms/step - loss: 0.0745 - accuracy: 0.9831 - val_loss: 0.0335 - val_accuracy: 0.9916\n",
      "Epoch 6/13\n",
      "11012/11012 [==============================] - 243s 22ms/step - loss: 0.0449 - accuracy: 0.9884 - val_loss: 0.0261 - val_accuracy: 0.9931\n",
      "Epoch 7/13\n",
      "11012/11012 [==============================] - 243s 22ms/step - loss: 0.0288 - accuracy: 0.9926 - val_loss: 0.0310 - val_accuracy: 0.9924\n",
      "Epoch 8/13\n",
      "11012/11012 [==============================] - 243s 22ms/step - loss: 0.0204 - accuracy: 0.9950 - val_loss: 0.0088 - val_accuracy: 0.9975\n",
      "Epoch 9/13\n",
      "11012/11012 [==============================] - 243s 22ms/step - loss: 0.0240 - accuracy: 0.9946 - val_loss: 0.0170 - val_accuracy: 0.9967\n",
      "Epoch 10/13\n",
      "11012/11012 [==============================] - 243s 22ms/step - loss: 0.0237 - accuracy: 0.9927 - val_loss: 0.0231 - val_accuracy: 0.9935\n",
      "Epoch 11/13\n",
      "11012/11012 [==============================] - 243s 22ms/step - loss: 0.0232 - accuracy: 0.9946 - val_loss: 0.0093 - val_accuracy: 0.9982\n",
      "Epoch 12/13\n",
      "11012/11012 [==============================] - 242s 22ms/step - loss: 0.0146 - accuracy: 0.9959 - val_loss: 0.0078 - val_accuracy: 0.9982\n",
      "Epoch 13/13\n",
      "11012/11012 [==============================] - 243s 22ms/step - loss: 0.0118 - accuracy: 0.9965 - val_loss: 0.0086 - val_accuracy: 0.9985\n"
     ]
    }
   ],
   "source": [
    "model.compile(loss = \"binary_crossentropy\" , optimizer = \"adam\" , metrics = [\"accuracy\"])\n",
    "history = model.fit(np.array(X_train) ,np.array(Y_train) , epochs = 13 ,validation_split = 0.2 )"
   ]
  },
  {
   "cell_type": "code",
   "execution_count": 10,
   "metadata": {},
   "outputs": [
    {
     "data": {
      "text/plain": [
       "2106.5391872278665"
      ]
     },
     "execution_count": 10,
     "metadata": {},
     "output_type": "execute_result"
    }
   ],
   "source": [
    "y_pre = model.predict(np.array(X_test))\n",
    "#y_pre = np.reshape(y_pre ,(8268,) )\n",
    "Y_test = np.array(Y_test)\n",
    "fil = y_pre > 0.8\n",
    "y_pre[fil] = 1\n",
    "fil = y_pre < 0.8\n",
    "y_pre[fil] = 0\n",
    "np.sum(Y_test == y_pre)/8268"
   ]
  },
  {
   "cell_type": "code",
   "execution_count": 14,
   "metadata": {},
   "outputs": [
    {
     "data": {
      "image/png": "[encoded data removed]",
      "text/plain": [
       "<Figure size 432x288 with 1 Axes>"
      ]
     },
     "metadata": {
      "needs_background": "light"
     },
     "output_type": "display_data"
    }
   ],
   "source": [
    "plt.plot(history.history['accuracy'])\n",
    "plt.plot(history.history[\"val_accuracy\"])\n",
    "plt.title(\"Model Accuracy\")\n",
    "plt.xlabel(\"Accuracy\")\n",
    "plt.ylabel(\"Epochs\")\n",
    "plt.legend(['Train', 'Val'], loc='lower right')\n",
    "plt.show()"
   ]
  },
  {
   "cell_type": "code",
   "execution_count": 15,
   "metadata": {},
   "outputs": [
    {
     "data": {
      "image/png": "[encoded data removed]",
      "text/plain": [
       "<Figure size 432x288 with 1 Axes>"
      ]
     },
     "metadata": {
      "needs_background": "light"
     },
     "output_type": "display_data"
    }
   ],
   "source": [
    "plt.plot(history.history[\"loss\"])\n",
    "plt.plot(history.history[\"val_loss\"])\n",
    "plt.title(\"Model Loss\")\n",
    "plt.ylabel(\"Loss\")\n",
    "plt.xlabel(\"Epochs\")\n",
    "plt.legend(['Train', 'Val'], loc='upper right')\n",
    "plt.show()"
   ]
  },
  {
   "cell_type": "code",
   "execution_count": 25,
   "metadata": {},
   "outputs": [
    {
     "data": {
      "image/png": "[encoded data removed]",
      "text/plain": [
       "<Figure size 432x288 with 1 Axes>"
      ]
     },
     "metadata": {
      "needs_background": "light"
     },
     "output_type": "display_data"
    }
   ],
   "source": [
    "from sklearn.metrics import roc_curve,auc\n",
    "\n",
    "fpr, tpr, _ = roc_curve(Y_test, y_pre)\n",
    "\n",
    "probs = np.exp(y_pre)\n",
    "# Compute ROC curve\n",
    "fpr, tpr, thresholds = roc_curve(Y_test, probs, pos_label=1)\n",
    "\n",
    "roc_auc = auc(fpr, tpr)\n",
    "plt.plot(fpr, tpr, color='darkorange', label='ROC curve (area = %0.2f)' % roc_auc)\n",
    "\n",
    "plt.title('ROC curve')\n",
    "plt.xlim(-0.05, 1)\n",
    "plt.ylim(0, 1.05)\n",
    "plt.xlabel('False Positive Rate')\n",
    "plt.ylabel('True Positive Rate')\n",
    "plt.legend(loc=\"lower right\")\n",
    "plt.plot([0, 1], [0, 1], color='navy', linestyle='--')\n",
    "plt.show()"
   ]
  },
  {
   "cell_type": "code",
   "execution_count": 19,
   "metadata": {},
   "outputs": [
    {
     "data": {
      "text/plain": [
       "0.997119132350449"
      ]
     },
     "execution_count": 19,
     "metadata": {},
     "output_type": "execute_result"
    }
   ],
   "source": [
    "from sklearn.metrics import accuracy_score\n",
    "accuracy_score(Y_test, y_pre)"
   ]
  },
  {
   "cell_type": "code",
   "execution_count": 20,
   "metadata": {},
   "outputs": [
    {
     "name": "stdout",
     "output_type": "stream",
     "text": [
      "[[2887    2]\n",
      " [  15 2997]]\n"
     ]
    }
   ],
   "source": [
    "from sklearn.metrics import classification_report,confusion_matrix\n",
    "print(confusion_matrix(Y_test, y_pre))"
   ]
  },
  {
   "cell_type": "code",
   "execution_count": null,
   "metadata": {},
   "outputs": [],
   "source": []
  }
 ],
 "metadata": {
  "kernelspec": {
   "display_name": "Python 3",
   "language": "python",
   "name": "python3"
  },
  "language_info": {
   "codemirror_mode": {
    "name": "ipython",
    "version": 3
   },
   "file_extension": ".py",
   "mimetype": "text/x-python",
   "name": "python",
   "nbconvert_exporter": "python",
   "pygments_lexer": "ipython3",
   "version": "3.7.4"
  }
 },
 "nbformat": 4,
 "nbformat_minor": 1
}
