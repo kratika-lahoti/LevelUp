{
 "cells": [
  {
   "cell_type": "markdown",
   "metadata": {
    "_uuid": "4279dc69d93a8889a42da4c42c9405d169add1c1"
   },
   "source": [
    "## Reference from [Detect Retina Damage From OCT Images (HR)](https://www.kaggle.com/kmader/detect-retina-damage-from-oct-images-hr)\n",
    "\n"
   ]
  },
  {
   "cell_type": "code",
   "execution_count": 1,
   "metadata": {
    "_cell_guid": "b1076dfc-b9ad-4769-8c92-a6c4dae69d19",
    "_uuid": "8f2839f25d086af736a60e9eeb907d3b93b6e0e5"
   },
   "outputs": [],
   "source": [
    "# This Python 3 environment comes with many helpful analytics libraries installed\n",
    "# It is defined by the kaggle/python docker image: https://github.com/kaggle/docker-python\n",
    "# For example, here's several helpful packages to load in \n",
    "\n",
    "import numpy as np # linear algebra\n",
    "import pandas as pd # data processing, CSV file I/O (e.g. pd.read_csv)\n",
    "\n",
    "# Input data files are available in the \"../input/\" directory.\n",
    "# For example, running this (by clicking run or pressing Shift+Enter) will list the files in the input directory\n",
    "\n",
    "import os\n",
    "#print(os.listdir(\"../input\"))\n",
    "\n",
    "# Any results you write to the current directory are saved as output."
   ]
  },
  {
   "cell_type": "markdown",
   "metadata": {
    "_cell_guid": "79c7e3d0-c299-4dcb-8224-4455121ee9b0",
    "_uuid": "d629ff2d2480ee46fbb7e2d37f6b5fab8052498a",
    "collapsed": true
   },
   "source": [
    "## model : vgg16(changed)\n",
    "To reduce overfitting, use the global average pooling (GAP) layer instead of the fully connected layer.\n",
    "## data\n",
    "only use test folder data ."
   ]
  },
  {
   "cell_type": "markdown",
   "metadata": {
    "_uuid": "48a682d16dd7ad4653e07777449489f9a104334b"
   },
   "source": [
    "## label \n",
    "![](https://i.imgur.com/fSTeZMd.png)\n",
    "(A) (Far left) choroidal neovascularization (CNV) with neovascular membrane (white arrowheads) and associated subretinal fluid (arrows).   \n",
    "(Middle left) Diabetic macular edema (DME) with retinal-thickening-associated intraretinal fluid (arrows).  \n",
    "(Middle right) Multiple drusen (arrowheads) present in early AMD.   \n",
    "(Far right) Normal retina with preserved foveal contour and absence of any retinal fluid/edema.  \n",
    "\n",
    "（最左侧）脉络膜新生血管（CNV），新生血管膜（白色箭头）和相关的视网膜下液（箭头）。  \n",
    "（左中）糖尿病性黄斑水肿（DME）与视网膜增厚相关的视网膜内液（箭头）。  \n",
    "（中右）早期AMD存在多个玻璃疣（箭头）。  \n",
    "（最右侧）视网膜正常，中央凹的轮廓，没有任何视网膜液/水肿。  "
   ]
  },
  {
   "cell_type": "code",
   "execution_count": 2,
   "metadata": {
    "_uuid": "7aceae0be40e27428bff2a35555e6c3d629d80cc"
   },
   "outputs": [
    {
     "name": "stderr",
     "output_type": "stream",
     "text": [
      "Using TensorFlow backend.\n"
     ]
    }
   ],
   "source": [
    "import os\n",
    "from glob import glob\n",
    "import matplotlib.pyplot as plt\n",
    "import random\n",
    "import cv2\n",
    "import pandas as pd\n",
    "import numpy as np\n",
    "import matplotlib.gridspec as gridspec\n",
    "import seaborn as sns\n",
    "import zlib\n",
    "import itertools\n",
    "import sklearn\n",
    "import itertools\n",
    "import scipy\n",
    "import skimage\n",
    "from skimage.transform import resize\n",
    "import csv\n",
    "from tqdm import tqdm\n",
    "from sklearn import model_selection\n",
    "from sklearn.model_selection import train_test_split, learning_curve,KFold,cross_val_score,StratifiedKFold\n",
    "from sklearn.utils import class_weight\n",
    "from sklearn.metrics import confusion_matrix\n",
    "import keras\n",
    "from keras.layers import Dense, Dropout, Activation, Flatten, Conv2D, MaxPooling2D, Lambda, MaxPool2D, BatchNormalization\n",
    "from keras.utils import np_utils\n",
    "from keras.utils.np_utils import to_categorical\n",
    "from keras.preprocessing.image import ImageDataGenerator\n",
    "from keras import models, layers, optimizers\n",
    "from sklearn.model_selection import train_test_split\n",
    "from sklearn.metrics import confusion_matrix, accuracy_score\n",
    "from sklearn.utils import class_weight\n",
    "from keras.optimizers import SGD, RMSprop, Adam, Adagrad, Adadelta, RMSprop\n",
    "from keras.models import Sequential, model_from_json\n",
    "from keras.layers import Activation,Dense, Dropout, Flatten, Conv2D, MaxPool2D,MaxPooling2D,AveragePooling2D, BatchNormalization\n",
    "from keras.preprocessing.image import ImageDataGenerator\n",
    "from keras.callbacks import ReduceLROnPlateau, ModelCheckpoint\n",
    "from keras import backend as K\n",
    "from keras.applications.vgg16 import VGG16\n",
    "from keras.models import Model\n",
    "from keras.applications.inception_v3 import InceptionV3\n",
    "from imblearn.over_sampling import RandomOverSampler\n",
    "from imblearn.under_sampling import RandomUnderSampler\n",
    "#from keras.applications.mobilenet import MobileNet\n",
    "#from sklearn.metrics import roc_auc_score\n",
    "#from sklearn.metrics import roc_curve\n",
    "#from sklearn.metrics import auc\n",
    "%matplotlib inline\n",
    "\n",
    "import warnings\n",
    "warnings.filterwarnings(\"ignore\")"
   ]
  },
  {
   "cell_type": "code",
   "execution_count": null,
   "metadata": {
    "_uuid": "9fdd763b656d4eee9fb93fa197ae846c48645d7a"
   },
   "outputs": [],
   "source": [
    "imageSize=224\n",
    "# train_dir = \"../input/oct2017/OCT2017 /train/\"\n",
    "# test_dir =  \"../input/oct2017/OCT2017 /test/\"\n",
    "train_dir = \"../input/kermany2018/oct2017/OCT2017 /train/\"\n",
    "test_dir =  \"../input/kermany2018/oct2017/OCT2017 /test/\"\n",
    "# ['DME', 'CNV', 'NORMAL', '.DS_Store', 'DRUSEN']\n",
    "from tqdm import tqdm\n",
    "def get_data(folder):\n",
    "    \"\"\"\n",
    "    Load the data and labels from the given folder.\n",
    "    \"\"\"\n",
    "    X = []\n",
    "    y = []\n",
    "    for folderName in os.listdir(folder):\n",
    "        if not folderName.startswith('.'):\n",
    "            if folderName in ['NORMAL']:\n",
    "                label = 0\n",
    "            elif folderName in ['CNV']:\n",
    "                label = 1\n",
    "            elif folderName in ['DME']:\n",
    "                label = 2\n",
    "            elif folderName in ['DRUSEN']:\n",
    "                label = 3\n",
    "            else:\n",
    "                label = 4\n",
    "            for image_filename in tqdm(os.listdir(folder + folderName)):\n",
    "                img_file = cv2.imread(folder + folderName + '/' + image_filename)\n",
    "                if img_file is not None:\n",
    "                    img_file = skimage.transform.resize(img_file, (imageSize, imageSize, 3))\n",
    "                    img_arr = np.asarray(img_file)\n",
    "                    X.append(img_arr)\n",
    "                    y.append(label)\n",
    "    X = np.asarray(X)\n",
    "    y = np.asarray(y)\n",
    "    return X,y\n",
    "#X_train, y_train = get_data(train_dir) # Un-comment to use full dataset: Step 1 of 2\n",
    "X_test, y_test= get_data(test_dir)\n",
    "\n",
    "from sklearn.model_selection import train_test_split\n",
    "X_train, X_test, y_train, y_test = train_test_split(X_test, y_test, test_size=0.2) # Re-comment to use full dataset: Step 2 of 2\n",
    "\n",
    "# Encode labels to hot vectors (ex : 2 -> [0,0,1,0,0,0,0,0,0,0])\n",
    "from keras.utils.np_utils import to_categorical\n",
    "y_trainHot = to_categorical(y_train, num_classes = 4)\n",
    "y_testHot = to_categorical(y_test, num_classes = 4)"
   ]
  },
  {
   "cell_type": "code",
   "execution_count": null,
   "metadata": {
    "_uuid": "1dbe11607c14e883d8bbb0103fb654358278c2df",
    "scrolled": true
   },
   "outputs": [],
   "source": [
    "print(len(y_trainHot))\n",
    "print(len(y_testHot))"
   ]
  },
  {
   "cell_type": "markdown",
   "metadata": {
    "_uuid": "86b564ff142e13010d47976c9c1c98ad29ac8518"
   },
   "source": [
    "## pixel histogram  ---- Histogram equalization？"
   ]
  },
  {
   "cell_type": "code",
   "execution_count": null,
   "metadata": {
    "_uuid": "ecfdca793428a5fbd359423e7bb4046280238c4c"
   },
   "outputs": [],
   "source": [
    "def plotHistogram(a):\n",
    "    \"\"\"\n",
    "    Plot histogram of RGB Pixel Intensities\n",
    "    \"\"\"\n",
    "    plt.figure(figsize=(10,5))\n",
    "    plt.subplot(1,2,1)\n",
    "    plt.imshow(a)\n",
    "    plt.axis('off')\n",
    "    histo = plt.subplot(1,2,2)\n",
    "    histo.set_ylabel('Count')\n",
    "    histo.set_xlabel('Pixel Intensity')\n",
    "    n_bins = 30\n",
    "    plt.hist(a[:,:,0].flatten(), bins= n_bins, lw = 0, color='r', alpha=0.5);\n",
    "    plt.hist(a[:,:,1].flatten(), bins= n_bins, lw = 0, color='g', alpha=0.5);\n",
    "    plt.hist(a[:,:,2].flatten(), bins= n_bins, lw = 0, color='b', alpha=0.5);\n",
    "plotHistogram(X_train[1])"
   ]
  },
  {
   "cell_type": "markdown",
   "metadata": {
    "_uuid": "b8b7cb91415d99294fa96d4ca2ed98b36ade5db9"
   },
   "source": [
    "## NORMAL"
   ]
  },
  {
   "cell_type": "code",
   "execution_count": null,
   "metadata": {
    "_uuid": "119e7f0a5637275c2c163ac6765293fc1f96b897"
   },
   "outputs": [],
   "source": [
    "print(\"Normal\")\n",
    "multipleImages = glob('../input/kermany2018/oct2017/OCT2017 /train/NORMAL/**')\n",
    "i_ = 0\n",
    "plt.rcParams['figure.figsize'] = (10.0, 10.0)\n",
    "plt.subplots_adjust(wspace=0, hspace=0)\n",
    "for l in multipleImages[:25]:\n",
    "    im = cv2.imread(l)\n",
    "    im = cv2.resize(im, (128, 128)) \n",
    "    plt.subplot(5, 5, i_+1) #.set_title(l)\n",
    "    plt.imshow(cv2.cvtColor(im, cv2.COLOR_BGR2RGB)); plt.axis('off')\n",
    "    i_ += 1"
   ]
  },
  {
   "cell_type": "markdown",
   "metadata": {
    "_uuid": "436d9e1b2a5d7dd0a40f91bcb31e9415baf2394b"
   },
   "source": [
    "## CNV\n"
   ]
  },
  {
   "cell_type": "code",
   "execution_count": null,
   "metadata": {
    "_uuid": "b69a3ca2e4fdf1c8846e7426dc1dcd12b52b9e22"
   },
   "outputs": [],
   "source": [
    "print(\"CNV\")\n",
    "multipleImages = glob('../input/kermany2018/oct2017/OCT2017 /train/CNV/**')\n",
    "i_ = 0\n",
    "plt.rcParams['figure.figsize'] = (10.0, 10.0)\n",
    "plt.subplots_adjust(wspace=0, hspace=0)\n",
    "for l in multipleImages[:25]:\n",
    "    im = cv2.imread(l)\n",
    "    im = cv2.resize(im, (128, 128)) \n",
    "    plt.subplot(5, 5, i_+1) #.set_title(l)\n",
    "    plt.imshow(cv2.cvtColor(im, cv2.COLOR_BGR2RGB)); plt.axis('off')\n",
    "    i_ += 1"
   ]
  },
  {
   "cell_type": "markdown",
   "metadata": {
    "_uuid": "f243b16fa48a486690ec15865be215b0b9fec2b9"
   },
   "source": [
    "## DME"
   ]
  },
  {
   "cell_type": "code",
   "execution_count": null,
   "metadata": {
    "_uuid": "6380f84dc549baaf28a1e86dfb41356dfcd4c49c",
    "scrolled": true
   },
   "outputs": [],
   "source": [
    "print(\"DME\")\n",
    "multipleImages = glob('../input/kermany2018/oct2017/OCT2017 /train/CNV/**')\n",
    "i_ = 0\n",
    "plt.rcParams['figure.figsize'] = (10.0, 10.0)\n",
    "plt.subplots_adjust(wspace=0, hspace=0)\n",
    "for l in multipleImages[:25]:\n",
    "    im = cv2.imread(l)\n",
    "    im = cv2.resize(im, (128, 128)) \n",
    "    plt.subplot(5, 5, i_+1) #.set_title(l)\n",
    "    plt.imshow(cv2.cvtColor(im, cv2.COLOR_BGR2RGB)); plt.axis('off')\n",
    "    i_ += 1"
   ]
  },
  {
   "cell_type": "markdown",
   "metadata": {
    "_uuid": "74d028d1ab61582b801332c7ad7e0f8e9463222d"
   },
   "source": [
    "## drusen\n"
   ]
  },
  {
   "cell_type": "code",
   "execution_count": null,
   "metadata": {
    "_uuid": "6df08dbc37aee0ada511bfe1ae1416e5b20c7f74"
   },
   "outputs": [],
   "source": [
    "print(\"DRUSEN\")\n",
    "multipleImages = glob('../input/kermany2018/oct2017/OCT2017 /train/DRUSEN/**')\n",
    "i_ = 0\n",
    "plt.rcParams['figure.figsize'] = (10.0, 10.0)\n",
    "plt.subplots_adjust(wspace=0, hspace=0)\n",
    "for l in multipleImages[:25]:\n",
    "    im = cv2.imread(l)\n",
    "    im = cv2.resize(im, (128, 128)) \n",
    "    plt.subplot(5, 5, i_+1) #.set_title(l)\n",
    "    plt.imshow(cv2.cvtColor(im, cv2.COLOR_BGR2RGB)); plt.axis('off')\n",
    "    i_ += 1"
   ]
  },
  {
   "cell_type": "code",
   "execution_count": null,
   "metadata": {
    "_uuid": "45b0e6e7e3bcaae69af9662cf7a686d705e0c2f5"
   },
   "outputs": [],
   "source": [
    "map_characters = {0: 'Normal', 1: 'CNV', 2: 'DME', 3: 'DRUSEN'}\n",
    "dict_characters=map_characters\n",
    "import seaborn as sns\n",
    "df = pd.DataFrame()\n",
    "df[\"labels\"]=y_train\n",
    "lab = df['labels']\n",
    "dist = lab.value_counts()\n",
    "sns.countplot(lab)\n",
    "print(dict_characters)"
   ]
  },
  {
   "cell_type": "code",
   "execution_count": null,
   "metadata": {
    "_uuid": "2c19192dc521a48a20320354311b7d20e43d654e"
   },
   "outputs": [],
   "source": [
    "# Helper Functions  Learning Curves and Confusion Matrix\n",
    "\n",
    "from keras.callbacks import Callback, EarlyStopping, ReduceLROnPlateau, ModelCheckpoint\n",
    "\n",
    "class MetricsCheckpoint(Callback):\n",
    "    \"\"\"Callback that saves metrics after each epoch\"\"\"\n",
    "    def __init__(self, savepath):\n",
    "        super(MetricsCheckpoint, self).__init__()\n",
    "        self.savepath = savepath\n",
    "        self.history = {}\n",
    "    def on_epoch_end(self, epoch, logs=None):\n",
    "        for k, v in logs.items():\n",
    "            self.history.setdefault(k, []).append(v)\n",
    "        np.save(self.savepath, self.history)\n",
    "\n",
    "def plotKerasLearningCurve():\n",
    "    plt.figure(figsize=(10,5))\n",
    "    metrics = np.load('logs.npy')[()]\n",
    "    filt = ['acc'] # try to add 'loss' to see the loss learning curve\n",
    "    for k in filter(lambda x : np.any([kk in x for kk in filt]), metrics.keys()):\n",
    "        l = np.array(metrics[k])\n",
    "        plt.plot(l, c= 'r' if 'val' not in k else 'b', label='val' if 'val' in k else 'train')\n",
    "        x = np.argmin(l) if 'loss' in k else np.argmax(l)\n",
    "        y = l[x]\n",
    "        plt.scatter(x,y, lw=0, alpha=0.25, s=100, c='r' if 'val' not in k else 'b')\n",
    "        plt.text(x, y, '{} = {:.4f}'.format(x,y), size='15', color= 'r' if 'val' not in k else 'b')   \n",
    "    plt.legend(loc=4)\n",
    "    plt.axis([0, None, None, None]);\n",
    "    plt.grid()\n",
    "    plt.xlabel('Number of epochs')\n",
    "    plt.ylabel('Accuracy')\n",
    "\n",
    "def plot_confusion_matrix(cm, classes,\n",
    "                          normalize=False,\n",
    "                          title='Confusion matrix',\n",
    "                          cmap=plt.cm.Blues):\n",
    "    \"\"\"\n",
    "    This function prints and plots the confusion matrix.\n",
    "    Normalization can be applied by setting `normalize=True`.\n",
    "    \"\"\"\n",
    "    plt.figure(figsize = (5,5))\n",
    "    plt.imshow(cm, interpolation='nearest', cmap=cmap)\n",
    "    plt.title(title)\n",
    "    plt.colorbar()\n",
    "    tick_marks = np.arange(len(classes))\n",
    "    plt.xticks(tick_marks, classes, rotation=90)\n",
    "    plt.yticks(tick_marks, classes)\n",
    "    if normalize:\n",
    "        cm = cm.astype('float') / cm.sum(axis=1)[:, np.newaxis]\n",
    "\n",
    "    thresh = cm.max() / 2.\n",
    "    for i, j in itertools.product(range(cm.shape[0]), range(cm.shape[1])):\n",
    "        plt.text(j, i, cm[i, j],\n",
    "                 horizontalalignment=\"center\",\n",
    "                 color=\"white\" if cm[i, j] > thresh else \"black\")\n",
    "    plt.tight_layout()\n",
    "    plt.ylabel('True label')\n",
    "    plt.xlabel('Predicted label')\n",
    "\n",
    "def plot_learning_curve(history):\n",
    "    plt.figure(figsize=(8,8))\n",
    "    plt.subplot(1,2,1)\n",
    "    plt.plot(history.history['acc'])\n",
    "    plt.plot(history.history['val_acc'])\n",
    "    plt.title('model accuracy')\n",
    "    plt.ylabel('accuracy')\n",
    "    plt.xlabel('epoch')\n",
    "    plt.legend(['train', 'test'], loc='upper left')\n",
    "    plt.savefig('./accuracy_curve.png')\n",
    "    plt.subplot(1,2,2)\n",
    "    plt.plot(history.history['loss'])\n",
    "    plt.plot(history.history['val_loss'])\n",
    "    plt.title('model loss')\n",
    "    plt.ylabel('loss')\n",
    "    plt.xlabel('epoch')\n",
    "    plt.legend(['train', 'test'], loc='upper left')\n",
    "    plt.savefig('./loss_curve.png')"
   ]
  },
  {
   "cell_type": "code",
   "execution_count": null,
   "metadata": {
    "_uuid": "d2e50b36e4c46382c8372ad7162079101716588f"
   },
   "outputs": [],
   "source": [
    "map_characters1 = {0: 'Normal', 1: 'CNV', 2: 'DME', 3: 'DRUSEN'}\n",
    "class_weight1 = class_weight.compute_class_weight('balanced', np.unique(y_train), y_train) ## ? \n",
    "\n",
    "## \n",
    "weight_path1 = '../input/keras-pretrained-models/vgg16_weights_tf_dim_ordering_tf_kernels_notop.h5'\n",
    "pretrained_model_1 = VGG16(weights = weight_path1, include_top=False, input_shape=(imageSize, imageSize, 3))"
   ]
  },
  {
   "cell_type": "code",
   "execution_count": null,
   "metadata": {
    "_uuid": "6e8237dfffd16edcc3ff7324318b4d65483aa5e6"
   },
   "outputs": [],
   "source": [
    "# Deal with imbalanced class sizes below\n",
    "# Make Data 1D for compatability upsampling methods\n",
    "X_trainShape = X_train.shape[1]*X_train.shape[2]*X_train.shape[3]\n",
    "X_testShape = X_test.shape[1]*X_test.shape[2]*X_test.shape[3]\n",
    "X_trainFlat = X_train.reshape(X_train.shape[0], X_trainShape)\n",
    "X_testFlat = X_test.reshape(X_test.shape[0], X_testShape)\n",
    "Y_train = y_train\n",
    "Y_test = y_test\n",
    "#ros = RandomOverSampler(ratio='auto')\n",
    "ros = RandomUnderSampler(ratio='auto')\n",
    "X_trainRos, Y_trainRos = ros.fit_sample(X_trainFlat, Y_train)\n",
    "X_testRos, Y_testRos = ros.fit_sample(X_testFlat, Y_test)\n",
    "# Encode labels to hot vectors (ex : 2 -> [0,0,1,0,0,0,0,0,0,0])\n",
    "Y_trainRosHot = to_categorical(Y_trainRos, num_classes = 4)\n",
    "Y_testRosHot = to_categorical(Y_testRos, num_classes = 4)\n",
    "# Make Data 2D again\n",
    "for i in range(len(X_trainRos)):\n",
    "    height, width, channels = imageSize,imageSize,3\n",
    "    X_trainRosReshaped = X_trainRos.reshape(len(X_trainRos),height,width,channels)\n",
    "for i in range(len(X_testRos)):\n",
    "    height, width, channels = imageSize,imageSize,3\n",
    "    X_testRosReshaped = X_testRos.reshape(len(X_testRos),height,width,channels)\n",
    "# Plot Label Distribution\n",
    "dfRos = pd.DataFrame()\n",
    "dfRos[\"labels\"]=Y_trainRos\n",
    "labRos = dfRos['labels']\n",
    "distRos = lab.value_counts()\n",
    "sns.countplot(labRos)\n",
    "print(dict_characters)"
   ]
  },
  {
   "cell_type": "code",
   "execution_count": null,
   "metadata": {
    "_uuid": "dcd425d3c46660be08f480266937b97736903d70"
   },
   "outputs": [],
   "source": [
    "class_weight1 = class_weight.compute_class_weight('balanced', np.unique(Y_train), Y_train)\n",
    "print(\"Old Class Weights: \",class_weight1)\n",
    "class_weight2 = class_weight.compute_class_weight('balanced', np.unique(Y_trainRos), Y_trainRos)\n",
    "print(\"New Class Weights: \",class_weight2)"
   ]
  },
  {
   "cell_type": "code",
   "execution_count": null,
   "metadata": {
    "_uuid": "67710fa070c006bc75a32e01ccb5fb3f31aab422"
   },
   "outputs": [],
   "source": [
    "# Shuffle data to permit further subsampling\n",
    "from sklearn.utils import shuffle\n",
    "X_trainRosReshaped, Y_trainRosHot = shuffle(X_trainRosReshaped, Y_trainRosHot, random_state=13)\n",
    "X_testRosReshaped, Y_testRosHot = shuffle(X_testRosReshaped, Y_testRosHot, random_state=13)"
   ]
  },
  {
   "cell_type": "code",
   "execution_count": null,
   "metadata": {
    "_uuid": "6cfb79f348ce3b4c6c379b458b23f192e9b8832c"
   },
   "outputs": [],
   "source": [
    "def get_model(pretrainedmodel,numclasses):\n",
    "#     base_model = pretrained_model_1 # Topless\n",
    "    base_model = pretrainedmodel # Topless\n",
    "    # Add top layer\n",
    "    x = base_model.output\n",
    "    x = Conv2D(512, kernel_size = (3,3), padding = 'valid')(x)\n",
    "    x = keras.layers.GlobalAveragePooling2D()(x)\n",
    "#     x = Flatten()(x)\n",
    "#     x = Dropout(0.75)(x)\n",
    "    predictions = Dense(numclasses, activation='softmax')(x)\n",
    "    model = Model(inputs=base_model.input, outputs=predictions)\n",
    "    # Train top layer\n",
    "    for layer in base_model.layers:\n",
    "        layer.trainable = False\n",
    "    return model "
   ]
  },
  {
   "cell_type": "code",
   "execution_count": null,
   "metadata": {
    "_uuid": "8c6557d6d4802bdcdb9db6808808a561763f91d2"
   },
   "outputs": [],
   "source": [
    "model = get_model(pretrained_model_1, 4)\n",
    "model.summary()"
   ]
  },
  {
   "cell_type": "code",
   "execution_count": null,
   "metadata": {
    "_uuid": "46a1a993915129ed2d763c0ea82748b84d4c0842"
   },
   "outputs": [],
   "source": [
    "optimizer1 = keras.optimizers.Adam()\n",
    "optimizer2 = keras.optimizers.RMSprop(lr=0.0001/2.0)\n",
    "\n",
    "model.compile(loss='categorical_crossentropy', \n",
    "              optimizer=optimizer1, \n",
    "              metrics=['accuracy'])\n",
    "callbacks_list = [keras.callbacks.EarlyStopping(monitor='val_acc', patience=10, verbose=1)]"
   ]
  },
  {
   "cell_type": "code",
   "execution_count": null,
   "metadata": {
    "_uuid": "16d37afd812d261632b10334a00897b6ccc43c7c"
   },
   "outputs": [],
   "source": [
    "# Fit model\n",
    "xtrain = X_trainRosReshaped\n",
    "ytrain = Y_trainRosHot\n",
    "xtest = X_testRosReshaped\n",
    "ytest = Y_testRosHot\n",
    "numepochs = 100\n",
    "classweight = class_weight2 \n",
    "batch_size = 128\n",
    "\n",
    "\n",
    "history = model.fit(xtrain,ytrain, \n",
    "                    epochs=numepochs, \n",
    "                    batch_size = batch_size,\n",
    "                    class_weight=classweight, \n",
    "                    validation_data=(xtest,ytest), \n",
    "                    verbose=1,\n",
    "                    callbacks = callbacks_list+[MetricsCheckpoint('logs')])"
   ]
  },
  {
   "cell_type": "code",
   "execution_count": null,
   "metadata": {
    "_uuid": "42fe4878f8983217779fc9455d8c2a6492f1258d"
   },
   "outputs": [],
   "source": [
    "labels = map_characters1\n",
    "\n",
    "# Evaluate model\n",
    "score = model.evaluate(xtest,ytest, verbose=0)\n",
    "print('\\nKeras CNN - accuracy:', score[1], '\\n')\n",
    "y_pred = model.predict(xtest)\n",
    "print('\\n', sklearn.metrics.classification_report(np.where(ytest > 0)[1], np.argmax(y_pred, axis=1), target_names=list(labels.values())), sep='') \n",
    "Y_pred_classes = np.argmax(y_pred,axis = 1) \n",
    "Y_true = np.argmax(ytest,axis = 1) \n",
    "confusion_mtx = confusion_matrix(Y_true, Y_pred_classes) \n",
    "plotKerasLearningCurve()\n",
    "plt.show()\n",
    "plot_learning_curve(history)\n",
    "plt.show()\n",
    "plot_confusion_matrix(confusion_mtx, classes = list(labels.values()))\n",
    "plt.show()"
   ]
  },
  {
   "cell_type": "code",
   "execution_count": null,
   "metadata": {
    "_uuid": "3d3bd7d012e0e50c44523c0cbd7964e24f0ea33a"
   },
   "outputs": [],
   "source": [
    "def plot_single(a):\n",
    "    \"\"\"\n",
    "    Plot histogram of RGB Pixel Intensities\n",
    "    \"\"\"\n",
    "    plt.figure(figsize=(10,5))\n",
    "    plt.subplot(1,2,1)\n",
    "    plt.imshow(a)\n"
   ]
  },
  {
   "cell_type": "code",
   "execution_count": null,
   "metadata": {
    "_uuid": "66a1c5fed9976bfccbc9baa142c4dd0b3b5bacc5"
   },
   "outputs": [],
   "source": [
    "# normal --- dme\n",
    "for index in range(len(Y_true)):\n",
    "    if Y_true[index] == 0 and Y_pred_classes[index] ==2:\n",
    "        plot_single(xtest[index])  "
   ]
  },
  {
   "cell_type": "code",
   "execution_count": null,
   "metadata": {
    "_uuid": "86ad701c5343efe3ca1b449a35677d6db002c83c"
   },
   "outputs": [],
   "source": [
    "# cnv - drusen\n",
    "for index in range(len(Y_true)):\n",
    "    if Y_true[index] == 1 and Y_pred_classes[index] ==3:\n",
    "        plot_single(xtest[index])  "
   ]
  },
  {
   "cell_type": "code",
   "execution_count": null,
   "metadata": {
    "_uuid": "ef00bd2281a46d440690229d59d4b808dbb5fc9f"
   },
   "outputs": [],
   "source": []
  },
  {
   "cell_type": "code",
   "execution_count": null,
   "metadata": {
    "_uuid": "108009e62bed83be99414fd7dfc5d5333910a8e8"
   },
   "outputs": [],
   "source": []
  }
 ],
 "metadata": {
  "kernelspec": {
   "display_name": "Python 3",
   "language": "python",
   "name": "python3"
  },
  "language_info": {
   "codemirror_mode": {
    "name": "ipython",
    "version": 3
   },
   "file_extension": ".py",
   "mimetype": "text/x-python",
   "name": "python",
   "nbconvert_exporter": "python",
   "pygments_lexer": "ipython3",
   "version": "3.7.4"
  }
 },
 "nbformat": 4,
 "nbformat_minor": 1
}
